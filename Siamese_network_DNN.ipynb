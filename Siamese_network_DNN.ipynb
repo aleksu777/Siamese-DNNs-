{
  "nbformat": 4,
  "nbformat_minor": 0,
  "metadata": {
    "colab": {
      "name": "Siamese network DNN.ipynb",
      "provenance": []
    },
    "kernelspec": {
      "name": "python3",
      "display_name": "Python 3"
    },
    "language_info": {
      "name": "python"
    }
  },
  "cells": [
    {
      "cell_type": "markdown",
      "source": [
        "***\n",
        "# This a DNN Siamese network for the fashion mnist dataset\n",
        "\n",
        "***"
      ],
      "metadata": {
        "id": "WMOtQRkNqd3Q"
      }
    },
    {
      "cell_type": "code",
      "source": [
        "### Importing all the libraries needed\n",
        "\n",
        "import tensorflow as tf\n",
        "from tensorflow.keras.models import Model\n",
        "from tensorflow.keras.layers import Input, Flatten, Dense, Dropout, Lambda\n",
        "from tensorflow.keras.optimizers import RMSprop\n",
        "from tensorflow.keras.datasets import fashion_mnist\n",
        "from tensorflow.python.keras.utils.vis_utils import plot_model\n",
        "from tensorflow.keras import backend as K\n",
        "\n",
        "\n",
        "import numpy as np\n",
        "import matplotlib.pyplot as plt\n",
        "from PIL import Image, ImageFont, ImageDraw\n",
        "import random"
      ],
      "metadata": {
        "id": "Bry8bXWqqn7O"
      },
      "execution_count": 14,
      "outputs": []
    },
    {
      "cell_type": "markdown",
      "source": [
        "# Load and normalize data\n"
      ],
      "metadata": {
        "id": "5ewsQFoRrW3T"
      }
    },
    {
      "cell_type": "code",
      "source": [
        "\n",
        "\n",
        "\n",
        "(train_images, train_labels), (test_images, test_labels) = fashion_mnist.load_data()\n",
        "\n",
        "\n",
        "train_images = train_images.astype('float32') / (255.0)\n",
        "test_images = test_images.astype('float32') / (255.0)\n",
        "\n",
        "print(train_images.shape)\n",
        "print(test_images.shape)"
      ],
      "metadata": {
        "colab": {
          "base_uri": "https://localhost:8080/"
        },
        "id": "cUPi2If_rXql",
        "outputId": "6133d55f-9c3f-411f-8078-55505ef83324"
      },
      "execution_count": 15,
      "outputs": [
        {
          "output_type": "stream",
          "name": "stdout",
          "text": [
            "(60000, 28, 28)\n",
            "(10000, 28, 28)\n"
          ]
        }
      ]
    },
    {
      "cell_type": "code",
      "source": [
        "### Functions for Preprocessing and separating the data \n",
        "\n",
        "def create_pairs(x, digit_indices):\n",
        "    '''Positive and negative pair creation.\n",
        "    Alternates between positive and negative pairs.\n",
        "    '''\n",
        "    pairs = []\n",
        "    labels = []\n",
        "    n = min([len(digit_indices[d]) for d in range(10)]) - 1\n",
        "    \n",
        "    for d in range(10):\n",
        "        for i in range(n):\n",
        "            z1, z2 = digit_indices[d][i], digit_indices[d][i + 1]\n",
        "            pairs += [[x[z1], x[z2]]]\n",
        "            inc = random.randrange(1, 10)\n",
        "            dn = (d + inc) % 10\n",
        "            z1, z2 = digit_indices[d][i], digit_indices[dn][i]\n",
        "            pairs += [[x[z1], x[z2]]]\n",
        "            labels += [1, 0]\n",
        "            \n",
        "    return np.array(pairs), np.array(labels)\n",
        "\n",
        "\n",
        "\n",
        "def create_pairs_on_set(images, labels):\n",
        "    \n",
        "    digit_indices = [np.where(labels == i)[0] for i in range(10)]\n",
        "    pairs, y = create_pairs(images, digit_indices)\n",
        "    y = y.astype('float32')\n",
        "    \n",
        "    return pairs, y\n",
        "\n",
        "\n",
        "def show_image(image):\n",
        "    plt.figure()\n",
        "    plt.imshow(image)\n",
        "    plt.colorbar()\n",
        "    plt.grid(False)\n",
        "    plt.show()"
      ],
      "metadata": {
        "id": "kn57yTVWqtP5"
      },
      "execution_count": 16,
      "outputs": []
    },
    {
      "cell_type": "markdown",
      "source": [
        "### Creating data pairs "
      ],
      "metadata": {
        "id": "7M6lmmRksUYT"
      }
    },
    {
      "cell_type": "code",
      "source": [
        "\n",
        "\n",
        "tr_pairs, tr_y = create_pairs_on_set(train_images, train_labels)\n",
        "ts_pairs, ts_y = create_pairs_on_set(test_images, test_labels)\n",
        "\n",
        "ts_pairs.shape\n",
        "\n",
        "### You can see we know have a shape that includes pairs"
      ],
      "metadata": {
        "colab": {
          "base_uri": "https://localhost:8080/"
        },
        "id": "56DdM8dSsq8J",
        "outputId": "b05cbdb0-3325-4e06-b36d-62ae91a103c5"
      },
      "execution_count": 17,
      "outputs": [
        {
          "output_type": "execute_result",
          "data": {
            "text/plain": [
              "(19980, 2, 28, 28)"
            ]
          },
          "metadata": {},
          "execution_count": 17
        }
      ]
    },
    {
      "cell_type": "code",
      "source": [
        "### Let's see some examples\n",
        "\n",
        "pair = 10\n",
        "\n",
        "\n",
        "show_image(ts_pairs[pair][0])\n",
        "show_image(ts_pairs[pair][1])\n",
        "\n",
        "print(f'The label Y for this pair is {ts_y[pair]}')"
      ],
      "metadata": {
        "colab": {
          "base_uri": "https://localhost:8080/",
          "height": 538
        },
        "id": "Da1A-xnptXF5",
        "outputId": "1208a642-cd58-44fa-b039-c909977ca13b"
      },
      "execution_count": 18,
      "outputs": [
        {
          "output_type": "display_data",
          "data": {
            "text/plain": [
              "<Figure size 432x288 with 2 Axes>"
            ],
            "image/png": "[encoded data removed]"
          },
          "metadata": {
            "needs_background": "light"
          }
        },
        {
          "output_type": "display_data",
          "data": {
            "text/plain": [
              "<Figure size 432x288 with 2 Axes>"
            ],
            "image/png": "[encoded data removed]"
          },
          "metadata": {
            "needs_background": "light"
          }
        },
        {
          "output_type": "stream",
          "name": "stdout",
          "text": [
            "The label Y for this pair is 1.0\n"
          ]
        }
      ]
    },
    {
      "cell_type": "markdown",
      "source": [
        "# Building the Siamese Model"
      ],
      "metadata": {
        "id": "pQXG9QFrwCt_"
      }
    },
    {
      "cell_type": "code",
      "source": [
        "def initialize_base_network():\n",
        "    input = Input(shape=(28,28,), name=\"base_input\")\n",
        "    x = Flatten(name=\"flatten_input\")(input)\n",
        "    x = Dense(128, activation='relu', name=\"first_base_dense\")(x)\n",
        "    x = Dropout(0.1, name=\"first_dropout\")(x)\n",
        "    x = Dense(128, activation='relu', name=\"second_base_dense\")(x)\n",
        "    x = Dropout(0.1, name=\"second_dropout\")(x)\n",
        "    x = Dense(128, activation='relu', name=\"third_base_dense\")(x)\n",
        "\n",
        "    return Model(inputs=input, outputs=x)\n",
        "\n",
        "\n",
        "def euclidean_distance(vects):\n",
        "    x, y = vects\n",
        "    sum_square = K.sum(K.square(x - y), axis=1, keepdims=True)\n",
        "    return K.sqrt(K.maximum(sum_square, K.epsilon()))\n",
        "\n",
        "\n",
        "def eucl_dist_output_shape(shapes):\n",
        "    shape1, shape2 = shapes\n",
        "    return (shape1[0], 1)"
      ],
      "metadata": {
        "id": "3dSyurqiwF6C"
      },
      "execution_count": 19,
      "outputs": []
    },
    {
      "cell_type": "code",
      "source": [
        "### Initiate the network\n",
        "\n",
        "base_network = initialize_base_network()\n",
        "\n"
      ],
      "metadata": {
        "id": "Q4EKV_FVw89l"
      },
      "execution_count": 21,
      "outputs": []
    },
    {
      "cell_type": "code",
      "source": [
        "### Split the inputs into a and b that will go into the Base network\n",
        "\n",
        "input_a = Input(shape=(28,28,), name=\"left_input\")\n",
        "vect_output_a = base_network(input_a)\n",
        "\n",
        "\n",
        "\n",
        "input_b = Input(shape=(28,28,), name=\"right_input\")\n",
        "vect_output_b = base_network(input_b)\n",
        "\n",
        "\n",
        "output = Lambda(euclidean_distance, name=\"output_layer\", output_shape=eucl_dist_output_shape)([vect_output_a, vect_output_b])\n",
        "\n",
        "model = Model([input_a, input_b], output)\n",
        "\n"
      ],
      "metadata": {
        "id": "RQLpw0qNxFJu"
      },
      "execution_count": 23,
      "outputs": []
    },
    {
      "cell_type": "code",
      "source": [
        "### Construct the loss function \n",
        "\n",
        "def contrastive_loss_with_margin(margin):\n",
        "    def contrastive_loss(y_true, y_pred):\n",
        "        '''Contrastive loss from Hadsell-et-al.'06\n",
        "        http://yann.lecun.com/exdb/publis/pdf/hadsell-chopra-lecun-06.pdf\n",
        "        '''\n",
        "        square_pred = K.square(y_pred)\n",
        "        margin_square = K.square(K.maximum(margin - y_pred, 0))\n",
        "        return (y_true * square_pred + (1 - y_true) * margin_square)\n",
        "    return contrastive_loss"
      ],
      "metadata": {
        "id": "buxrdiMLLCF-"
      },
      "execution_count": 24,
      "outputs": []
    },
    {
      "cell_type": "code",
      "source": [
        "### compile the model \n",
        "\n",
        "\n",
        "model.compile(loss=contrastive_loss_with_margin(margin=1), optimizer='RMSprop')\n",
        "\n",
        "history = model.fit([tr_pairs[:,0], tr_pairs[:,1]], tr_y, epochs=20, batch_size=128,\n",
        "                    validation_data=([ts_pairs[:,0], ts_pairs[:,1]], ts_y))"
      ],
      "metadata": {
        "colab": {
          "base_uri": "https://localhost:8080/"
        },
        "id": "AFm6brdyL_gJ",
        "outputId": "89fa5d32-1cfe-4ce6-f69d-dfab9c847250"
      },
      "execution_count": 25,
      "outputs": [
        {
          "output_type": "stream",
          "name": "stdout",
          "text": [
            "938/938 [==============================] - 9s 9ms/step - loss: 0.1135 - val_loss: 0.0855\n",
            "Epoch 2/20\n",
            "938/938 [==============================] - 8s 9ms/step - loss: 0.0805 - val_loss: 0.0763\n",
            "Epoch 3/20\n",
            "938/938 [==============================] - 8s 8ms/step - loss: 0.0702 - val_loss: 0.0707\n",
            "Epoch 4/20\n",
            "938/938 [==============================] - 8s 9ms/step - loss: 0.0657 - val_loss: 0.0704\n",
            "Epoch 5/20\n",
            "938/938 [==============================] - 8s 9ms/step - loss: 0.0630 - val_loss: 0.0680\n",
            "Epoch 6/20\n",
            "938/938 [==============================] - 8s 9ms/step - loss: 0.0607 - val_loss: 0.0649\n",
            "Epoch 7/20\n",
            "938/938 [==============================] - 8s 9ms/step - loss: 0.0589 - val_loss: 0.0688\n",
            "Epoch 8/20\n",
            "938/938 [==============================] - 9s 9ms/step - loss: 0.0576 - val_loss: 0.0664\n",
            "Epoch 9/20\n",
            "938/938 [==============================] - 9s 9ms/step - loss: 0.0565 - val_loss: 0.0661\n",
            "Epoch 10/20\n",
            "938/938 [==============================] - 8s 9ms/step - loss: 0.0554 - val_loss: 0.0637\n",
            "Epoch 11/20\n",
            "938/938 [==============================] - 8s 9ms/step - loss: 0.0546 - val_loss: 0.0633\n",
            "Epoch 12/20\n",
            "938/938 [==============================] - 8s 9ms/step - loss: 0.0538 - val_loss: 0.0646\n",
            "Epoch 13/20\n",
            "938/938 [==============================] - 8s 9ms/step - loss: 0.0532 - val_loss: 0.0639\n",
            "Epoch 14/20\n",
            "938/938 [==============================] - 8s 9ms/step - loss: 0.0526 - val_loss: 0.0636\n",
            "Epoch 15/20\n",
            "938/938 [==============================] - 9s 9ms/step - loss: 0.0523 - val_loss: 0.0648\n",
            "Epoch 16/20\n",
            "938/938 [==============================] - 9s 10ms/step - loss: 0.0512 - val_loss: 0.0637\n",
            "Epoch 17/20\n",
            "938/938 [==============================] - 10s 11ms/step - loss: 0.0511 - val_loss: 0.0653\n",
            "Epoch 18/20\n",
            "938/938 [==============================] - 9s 9ms/step - loss: 0.0503 - val_loss: 0.0647\n",
            "Epoch 19/20\n",
            "938/938 [==============================] - 11s 12ms/step - loss: 0.0502 - val_loss: 0.0643\n",
            "Epoch 20/20\n",
            "938/938 [==============================] - 9s 10ms/step - loss: 0.0496 - val_loss: 0.0670\n"
          ]
        }
      ]
    },
    {
      "cell_type": "code",
      "source": [
        "def compute_accuracy(y_true, y_pred):\n",
        "\n",
        "    pred = y_pred.ravel() < 0.5\n",
        "    return np.mean(pred == y_true)\n",
        "\n",
        "\n"
      ],
      "metadata": {
        "id": "SNzLIdizNPfq"
      },
      "execution_count": 26,
      "outputs": []
    },
    {
      "cell_type": "code",
      "source": [
        "### Evaluate the model\n",
        "\n",
        "loss = model.evaluate(x=[ts_pairs[:,0],ts_pairs[:,1]], y=ts_y)\n",
        "\n",
        "y_pred_train = model.predict([tr_pairs[:,0], tr_pairs[:,1]])\n",
        "train_accuracy = compute_accuracy(tr_y, y_pred_train)\n",
        "\n",
        "y_pred_test = model.predict([ts_pairs[:,0], ts_pairs[:,1]])\n",
        "test_accuracy = compute_accuracy(ts_y, y_pred_test)\n",
        "\n",
        "print(\"Loss = {}, Train Accuracy = {} Test Accuracy = {}\".format(loss, train_accuracy, test_accuracy))"
      ],
      "metadata": {
        "colab": {
          "base_uri": "https://localhost:8080/"
        },
        "id": "wjQiLUUINaKO",
        "outputId": "bca5ae6d-a330-422e-9133-b75b68b6389d"
      },
      "execution_count": 27,
      "outputs": [
        {
          "output_type": "stream",
          "name": "stdout",
          "text": [
            "625/625 [==============================] - 1s 2ms/step - loss: 0.0670\n",
            "Loss = 0.06695926189422607, Train Accuracy = 0.9347141190198366 Test Accuracy = 0.9084084084084084\n"
          ]
        }
      ]
    },
    {
      "cell_type": "code",
      "source": [
        "### Visualize the metrics \n",
        "\n",
        "\n",
        "def plot_metrics(metric_name, title, ylim=5):\n",
        "    plt.title(title)\n",
        "    plt.ylim(0,ylim)\n",
        "    plt.plot(history.history[metric_name],color='blue',label=metric_name)\n",
        "    plt.plot(history.history['val_' + metric_name],color='green',label='val_' + metric_name)\n",
        "\n",
        "\n",
        "plot_metrics(metric_name='loss', title=\"Loss\", ylim=0.2)"
      ],
      "metadata": {
        "colab": {
          "base_uri": "https://localhost:8080/",
          "height": 281
        },
        "id": "5LLA-DLdNjSq",
        "outputId": "5b9ffafc-eb05-40e4-e460-04c33d895bc7"
      },
      "execution_count": 28,
      "outputs": [
        {
          "output_type": "display_data",
          "data": {
            "text/plain": [
              "<Figure size 432x288 with 1 Axes>"
            ],
            "image/png": "[encoded data removed]"
          },
          "metadata": {
            "needs_background": "light"
          }
        }
      ]
    }
  ]
}